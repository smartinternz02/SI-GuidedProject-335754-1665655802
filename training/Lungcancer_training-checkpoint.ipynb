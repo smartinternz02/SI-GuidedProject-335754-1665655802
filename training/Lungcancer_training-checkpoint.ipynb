{
 "cells": [
  {
   "cell_type": "code",
   "execution_count": null,
   "metadata": {},
   "outputs": [],
   "source": []
  },
  {
   "cell_type": "code",
   "execution_count": 1,
   "metadata": {},
   "outputs": [],
   "source": [
    "from tensorflow import keras"
   ]
  },
  {
   "cell_type": "code",
   "execution_count": 2,
   "metadata": {},
   "outputs": [],
   "source": [
    "from tensorflow.python.keras.models import Sequential\n",
    "from tensorflow.python.keras.layers import Dense\n",
    "from tensorflow.python.keras.layers import Convolution2D\n",
    "from tensorflow.python.keras.layers import MaxPooling2D\n",
    "from tensorflow.python.keras.layers import Flatten\n"
   ]
  },
  {
   "cell_type": "code",
   "execution_count": 3,
   "metadata": {},
   "outputs": [],
   "source": [
    "from keras.preprocessing.image import ImageDataGenerator\n",
    "train_datagen = ImageDataGenerator(rescale = 1./255,shear_range = 0.2,zoom_range = 0.2,horizontal_flip = True)\n",
    "test_datagen = ImageDataGenerator(rescale = 1./255)"
   ]
  },
  {
   "cell_type": "code",
   "execution_count": 4,
   "metadata": {},
   "outputs": [
    {
     "name": "stdout",
     "output_type": "stream",
     "text": [
      "Found 102 images belonging to 2 classes.\n",
      "Found 40 images belonging to 2 classes.\n"
     ]
    }
   ],
   "source": [
    "# applying Image data generator functionality to train and test set\n",
    "x_train = train_datagen.flow_from_directory(\n",
    "    r'C:/Users/ruthv/Desktop/Lung Cancer/Dataset/trainset'\n",
    "    ,target_size = (64,64),batch_size = 32 ,\n",
    "    class_mode = 'binary',color_mode=\"grayscale\")\n",
    "x_test = test_datagen.flow_from_directory(\n",
    "    r'C:/Users/ruthv/Desktop/Lung Cancer/Dataset/testset',\n",
    "    target_size = (64,64),batch_size = 32 , \n",
    "    class_mode = 'binary',color_mode=\"grayscale\")\n"
   ]
  },
  {
   "cell_type": "code",
   "execution_count": 5,
   "metadata": {},
   "outputs": [
    {
     "name": "stdout",
     "output_type": "stream",
     "text": [
      "{'Cancer': 0, 'NonCancer': 1}\n"
     ]
    }
   ],
   "source": [
    "print(x_train.class_indices)"
   ]
  },
  {
   "cell_type": "code",
   "execution_count": 6,
   "metadata": {},
   "outputs": [],
   "source": [
    "model = Sequential()"
   ]
  },
  {
   "cell_type": "code",
   "execution_count": 7,
   "metadata": {},
   "outputs": [],
   "source": [
    "model.add(Convolution2D(32,(3,3), input_shape = (64,64,1),activation = \"relu\"))"
   ]
  },
  {
   "cell_type": "code",
   "execution_count": 8,
   "metadata": {},
   "outputs": [],
   "source": [
    "model.add(MaxPooling2D(pool_size = (2,2)))"
   ]
  },
  {
   "cell_type": "code",
   "execution_count": 9,
   "metadata": {},
   "outputs": [],
   "source": [
    "model.add(Flatten()) # input layer"
   ]
  },
  {
   "cell_type": "code",
   "execution_count": 10,
   "metadata": {},
   "outputs": [],
   "source": [
    "model.add(Dense(units = 128,kernel_initializer = \"random_uniform\",activation = \"relu\")) #hidden layer"
   ]
  },
  {
   "cell_type": "code",
   "execution_count": 11,
   "metadata": {},
   "outputs": [],
   "source": [
    "model.add(Dense(units = 1,kernel_initializer = \"random_uniform\",activation = \"sigmoid\")) #output layer"
   ]
  },
  {
   "cell_type": "code",
   "execution_count": 12,
   "metadata": {},
   "outputs": [],
   "source": [
    "model.compile(loss = \"binary_crossentropy\",optimizer = \"adam\",metrics = [\"accuracy\"])"
   ]
  },
  {
   "cell_type": "code",
   "execution_count": 14,
   "metadata": {},
   "outputs": [
    {
     "name": "stdout",
     "output_type": "stream",
     "text": [
      "Epoch 1/100\n",
      "4/4 [==============================] - 1s 363ms/step - loss: 0.0128 - accuracy: 1.0000 - val_loss: 0.0179 - val_accuracy: 1.0000\n",
      "Epoch 2/100\n",
      "4/4 [==============================] - 1s 335ms/step - loss: 0.0399 - accuracy: 0.9902 - val_loss: 0.0785 - val_accuracy: 0.9500\n",
      "Epoch 3/100\n",
      "4/4 [==============================] - 1s 327ms/step - loss: 0.0323 - accuracy: 1.0000 - val_loss: 0.0308 - val_accuracy: 0.9750\n",
      "Epoch 4/100\n",
      "4/4 [==============================] - 2s 520ms/step - loss: 0.0284 - accuracy: 0.9902 - val_loss: 0.0097 - val_accuracy: 1.0000\n",
      "Epoch 5/100\n",
      "4/4 [==============================] - 1s 327ms/step - loss: 0.0197 - accuracy: 1.0000 - val_loss: 0.0338 - val_accuracy: 0.9750\n",
      "Epoch 6/100\n",
      "4/4 [==============================] - 1s 325ms/step - loss: 0.0313 - accuracy: 1.0000 - val_loss: 0.0151 - val_accuracy: 1.0000\n",
      "Epoch 7/100\n",
      "4/4 [==============================] - 2s 562ms/step - loss: 0.0113 - accuracy: 1.0000 - val_loss: 0.0090 - val_accuracy: 1.0000\n",
      "Epoch 8/100\n",
      "4/4 [==============================] - 1s 353ms/step - loss: 0.0195 - accuracy: 1.0000 - val_loss: 0.0086 - val_accuracy: 1.0000\n",
      "Epoch 9/100\n",
      "4/4 [==============================] - 1s 463ms/step - loss: 0.0294 - accuracy: 1.0000 - val_loss: 0.0162 - val_accuracy: 1.0000\n",
      "Epoch 10/100\n",
      "4/4 [==============================] - 1s 257ms/step - loss: 0.0286 - accuracy: 1.0000 - val_loss: 0.0196 - val_accuracy: 1.0000\n",
      "Epoch 11/100\n",
      "4/4 [==============================] - 1s 427ms/step - loss: 0.0120 - accuracy: 1.0000 - val_loss: 0.0231 - val_accuracy: 0.9750\n",
      "Epoch 12/100\n",
      "4/4 [==============================] - 1s 310ms/step - loss: 0.0259 - accuracy: 0.9902 - val_loss: 0.0185 - val_accuracy: 1.0000\n",
      "Epoch 13/100\n",
      "4/4 [==============================] - 1s 312ms/step - loss: 0.0201 - accuracy: 1.0000 - val_loss: 0.0423 - val_accuracy: 0.9750\n",
      "Epoch 14/100\n",
      "4/4 [==============================] - 1s 289ms/step - loss: 0.0300 - accuracy: 0.9902 - val_loss: 0.0271 - val_accuracy: 0.9750\n",
      "Epoch 15/100\n",
      "4/4 [==============================] - 1s 353ms/step - loss: 0.0130 - accuracy: 1.0000 - val_loss: 0.0049 - val_accuracy: 1.0000\n",
      "Epoch 16/100\n",
      "4/4 [==============================] - 1s 297ms/step - loss: 0.0361 - accuracy: 0.9804 - val_loss: 0.0104 - val_accuracy: 1.0000\n",
      "Epoch 17/100\n",
      "4/4 [==============================] - 1s 320ms/step - loss: 0.0128 - accuracy: 1.0000 - val_loss: 0.0408 - val_accuracy: 0.9750\n",
      "Epoch 18/100\n",
      "4/4 [==============================] - 1s 253ms/step - loss: 0.0251 - accuracy: 1.0000 - val_loss: 0.0051 - val_accuracy: 1.0000\n",
      "Epoch 19/100\n",
      "4/4 [==============================] - 1s 339ms/step - loss: 0.0237 - accuracy: 0.9902 - val_loss: 0.0047 - val_accuracy: 1.0000\n",
      "Epoch 20/100\n",
      "4/4 [==============================] - 1s 329ms/step - loss: 0.0224 - accuracy: 1.0000 - val_loss: 0.0049 - val_accuracy: 1.0000\n",
      "Epoch 21/100\n",
      "4/4 [==============================] - 1s 320ms/step - loss: 0.0205 - accuracy: 1.0000 - val_loss: 0.0041 - val_accuracy: 1.0000\n",
      "Epoch 22/100\n",
      "4/4 [==============================] - 1s 393ms/step - loss: 0.0147 - accuracy: 1.0000 - val_loss: 0.0096 - val_accuracy: 1.0000\n",
      "Epoch 23/100\n",
      "4/4 [==============================] - 1s 325ms/step - loss: 0.0148 - accuracy: 1.0000 - val_loss: 0.0095 - val_accuracy: 1.0000\n",
      "Epoch 24/100\n",
      "4/4 [==============================] - 1s 325ms/step - loss: 0.0280 - accuracy: 0.9902 - val_loss: 0.0016 - val_accuracy: 1.0000\n",
      "Epoch 25/100\n",
      "4/4 [==============================] - 1s 327ms/step - loss: 0.0137 - accuracy: 1.0000 - val_loss: 0.0026 - val_accuracy: 1.0000\n",
      "Epoch 26/100\n",
      "4/4 [==============================] - 1s 432ms/step - loss: 0.0092 - accuracy: 1.0000 - val_loss: 0.0015 - val_accuracy: 1.0000\n",
      "Epoch 27/100\n",
      "4/4 [==============================] - 1s 390ms/step - loss: 0.0403 - accuracy: 0.9804 - val_loss: 0.0031 - val_accuracy: 1.0000\n",
      "Epoch 28/100\n",
      "4/4 [==============================] - 1s 323ms/step - loss: 0.0246 - accuracy: 0.9902 - val_loss: 0.0224 - val_accuracy: 1.0000\n",
      "Epoch 29/100\n",
      "4/4 [==============================] - 2s 572ms/step - loss: 0.0251 - accuracy: 1.0000 - val_loss: 0.0409 - val_accuracy: 0.9750\n",
      "Epoch 30/100\n",
      "4/4 [==============================] - 1s 335ms/step - loss: 0.0397 - accuracy: 0.9902 - val_loss: 0.0048 - val_accuracy: 1.0000\n",
      "Epoch 31/100\n",
      "4/4 [==============================] - 1s 326ms/step - loss: 0.0587 - accuracy: 0.9804 - val_loss: 0.0025 - val_accuracy: 1.0000\n",
      "Epoch 32/100\n",
      "4/4 [==============================] - 1s 345ms/step - loss: 0.0207 - accuracy: 1.0000 - val_loss: 0.0086 - val_accuracy: 1.0000\n",
      "Epoch 33/100\n",
      "4/4 [==============================] - 1s 351ms/step - loss: 0.0140 - accuracy: 1.0000 - val_loss: 0.0036 - val_accuracy: 1.0000\n",
      "Epoch 34/100\n",
      "4/4 [==============================] - 1s 280ms/step - loss: 0.0086 - accuracy: 1.0000 - val_loss: 0.0014 - val_accuracy: 1.0000\n",
      "Epoch 35/100\n",
      "4/4 [==============================] - 1s 326ms/step - loss: 0.0259 - accuracy: 1.0000 - val_loss: 0.0018 - val_accuracy: 1.0000\n",
      "Epoch 36/100\n",
      "4/4 [==============================] - 1s 311ms/step - loss: 0.0183 - accuracy: 1.0000 - val_loss: 0.0094 - val_accuracy: 1.0000\n",
      "Epoch 37/100\n",
      "4/4 [==============================] - 1s 340ms/step - loss: 0.0250 - accuracy: 0.9902 - val_loss: 0.0016 - val_accuracy: 1.0000\n",
      "Epoch 38/100\n",
      "4/4 [==============================] - 1s 260ms/step - loss: 0.0621 - accuracy: 0.9804 - val_loss: 0.0103 - val_accuracy: 1.0000\n",
      "Epoch 39/100\n",
      "4/4 [==============================] - 1s 318ms/step - loss: 0.0326 - accuracy: 0.9804 - val_loss: 0.0034 - val_accuracy: 1.0000\n",
      "Epoch 40/100\n",
      "4/4 [==============================] - 1s 372ms/step - loss: 0.0450 - accuracy: 0.9902 - val_loss: 0.0025 - val_accuracy: 1.0000\n",
      "Epoch 41/100\n",
      "4/4 [==============================] - 1s 362ms/step - loss: 0.0182 - accuracy: 1.0000 - val_loss: 0.0097 - val_accuracy: 1.0000\n",
      "Epoch 42/100\n",
      "4/4 [==============================] - 1s 309ms/step - loss: 0.0637 - accuracy: 0.9706 - val_loss: 0.0270 - val_accuracy: 0.9750\n",
      "Epoch 43/100\n",
      "4/4 [==============================] - 1s 318ms/step - loss: 0.0298 - accuracy: 1.0000 - val_loss: 0.1906 - val_accuracy: 0.9500\n",
      "Epoch 44/100\n",
      "4/4 [==============================] - 1s 330ms/step - loss: 0.0357 - accuracy: 0.9804 - val_loss: 0.0107 - val_accuracy: 1.0000\n",
      "Epoch 45/100\n",
      "4/4 [==============================] - 1s 346ms/step - loss: 0.0745 - accuracy: 0.9804 - val_loss: 0.0061 - val_accuracy: 1.0000\n",
      "Epoch 46/100\n",
      "4/4 [==============================] - 1s 293ms/step - loss: 0.0626 - accuracy: 0.9608 - val_loss: 0.0279 - val_accuracy: 1.0000\n",
      "Epoch 47/100\n",
      "4/4 [==============================] - 1s 306ms/step - loss: 0.0221 - accuracy: 1.0000 - val_loss: 0.0338 - val_accuracy: 0.9750\n",
      "Epoch 48/100\n",
      "4/4 [==============================] - 1s 312ms/step - loss: 0.0089 - accuracy: 1.0000 - val_loss: 0.0014 - val_accuracy: 1.0000\n",
      "Epoch 49/100\n",
      "4/4 [==============================] - 1s 318ms/step - loss: 0.0572 - accuracy: 0.9902 - val_loss: 0.0016 - val_accuracy: 1.0000\n",
      "Epoch 50/100\n",
      "4/4 [==============================] - 1s 269ms/step - loss: 0.0094 - accuracy: 1.0000 - val_loss: 0.0072 - val_accuracy: 1.0000\n",
      "Epoch 51/100\n",
      "4/4 [==============================] - 1s 342ms/step - loss: 0.0118 - accuracy: 1.0000 - val_loss: 0.0043 - val_accuracy: 1.0000\n",
      "Epoch 52/100\n",
      "4/4 [==============================] - 1s 290ms/step - loss: 0.0102 - accuracy: 1.0000 - val_loss: 0.0015 - val_accuracy: 1.0000\n",
      "Epoch 53/100\n",
      "4/4 [==============================] - 1s 338ms/step - loss: 0.0127 - accuracy: 1.0000 - val_loss: 0.0017 - val_accuracy: 1.0000\n",
      "Epoch 54/100\n",
      "4/4 [==============================] - 1s 276ms/step - loss: 0.0029 - accuracy: 1.0000 - val_loss: 0.0033 - val_accuracy: 1.0000\n",
      "Epoch 55/100\n",
      "4/4 [==============================] - 1s 360ms/step - loss: 0.0062 - accuracy: 1.0000 - val_loss: 0.0035 - val_accuracy: 1.0000\n",
      "Epoch 56/100\n",
      "4/4 [==============================] - 1s 285ms/step - loss: 0.0112 - accuracy: 1.0000 - val_loss: 0.0033 - val_accuracy: 1.0000\n",
      "Epoch 57/100\n",
      "4/4 [==============================] - 1s 327ms/step - loss: 0.0261 - accuracy: 0.9902 - val_loss: 0.0018 - val_accuracy: 1.0000\n",
      "Epoch 58/100\n",
      "4/4 [==============================] - 1s 443ms/step - loss: 0.0051 - accuracy: 1.0000 - val_loss: 0.0023 - val_accuracy: 1.0000\n"
     ]
    },
    {
     "name": "stdout",
     "output_type": "stream",
     "text": [
      "Epoch 59/100\n",
      "4/4 [==============================] - 1s 306ms/step - loss: 0.0058 - accuracy: 1.0000 - val_loss: 0.0020 - val_accuracy: 1.0000\n",
      "Epoch 60/100\n",
      "4/4 [==============================] - 1s 281ms/step - loss: 0.0089 - accuracy: 1.0000 - val_loss: 0.0012 - val_accuracy: 1.0000\n",
      "Epoch 61/100\n",
      "4/4 [==============================] - 1s 372ms/step - loss: 0.0081 - accuracy: 1.0000 - val_loss: 0.0028 - val_accuracy: 1.0000\n",
      "Epoch 62/100\n",
      "4/4 [==============================] - 1s 246ms/step - loss: 0.0201 - accuracy: 0.9902 - val_loss: 0.0043 - val_accuracy: 1.0000\n",
      "Epoch 63/100\n",
      "4/4 [==============================] - 1s 357ms/step - loss: 0.0118 - accuracy: 1.0000 - val_loss: 0.0015 - val_accuracy: 1.0000\n",
      "Epoch 64/100\n",
      "4/4 [==============================] - 1s 280ms/step - loss: 0.0115 - accuracy: 1.0000 - val_loss: 0.0015 - val_accuracy: 1.0000\n",
      "Epoch 65/100\n",
      "4/4 [==============================] - 1s 457ms/step - loss: 0.0074 - accuracy: 1.0000 - val_loss: 0.0015 - val_accuracy: 1.0000\n",
      "Epoch 66/100\n",
      "4/4 [==============================] - 1s 293ms/step - loss: 0.0105 - accuracy: 1.0000 - val_loss: 0.0028 - val_accuracy: 1.0000\n",
      "Epoch 67/100\n",
      "4/4 [==============================] - 1s 298ms/step - loss: 0.0127 - accuracy: 1.0000 - val_loss: 0.0027 - val_accuracy: 1.0000\n",
      "Epoch 68/100\n",
      "4/4 [==============================] - 1s 259ms/step - loss: 0.0077 - accuracy: 1.0000 - val_loss: 0.0018 - val_accuracy: 1.0000\n",
      "Epoch 69/100\n",
      "4/4 [==============================] - 1s 282ms/step - loss: 0.0071 - accuracy: 1.0000 - val_loss: 0.0010 - val_accuracy: 1.0000\n",
      "Epoch 70/100\n",
      "4/4 [==============================] - 1s 287ms/step - loss: 0.0064 - accuracy: 1.0000 - val_loss: 7.3253e-04 - val_accuracy: 1.0000\n",
      "Epoch 71/100\n",
      "4/4 [==============================] - 1s 275ms/step - loss: 0.0146 - accuracy: 0.9902 - val_loss: 0.0032 - val_accuracy: 1.0000\n",
      "Epoch 72/100\n",
      "4/4 [==============================] - 1s 272ms/step - loss: 0.0193 - accuracy: 0.9902 - val_loss: 0.0050 - val_accuracy: 1.0000\n",
      "Epoch 73/100\n",
      "4/4 [==============================] - 1s 328ms/step - loss: 0.0046 - accuracy: 1.0000 - val_loss: 0.0012 - val_accuracy: 1.0000\n",
      "Epoch 74/100\n",
      "4/4 [==============================] - 1s 323ms/step - loss: 0.0067 - accuracy: 1.0000 - val_loss: 0.0013 - val_accuracy: 1.0000\n",
      "Epoch 75/100\n",
      "4/4 [==============================] - 2s 485ms/step - loss: 0.0032 - accuracy: 1.0000 - val_loss: 0.0024 - val_accuracy: 1.0000\n",
      "Epoch 76/100\n",
      "4/4 [==============================] - 1s 319ms/step - loss: 0.0062 - accuracy: 1.0000 - val_loss: 0.0023 - val_accuracy: 1.0000\n",
      "Epoch 77/100\n",
      "4/4 [==============================] - 2s 494ms/step - loss: 0.0056 - accuracy: 1.0000 - val_loss: 0.0013 - val_accuracy: 1.0000\n",
      "Epoch 78/100\n",
      "4/4 [==============================] - 1s 335ms/step - loss: 0.0070 - accuracy: 1.0000 - val_loss: 0.0015 - val_accuracy: 1.0000\n",
      "Epoch 79/100\n",
      "4/4 [==============================] - 1s 440ms/step - loss: 0.0055 - accuracy: 1.0000 - val_loss: 0.0015 - val_accuracy: 1.0000\n",
      "Epoch 80/100\n",
      "4/4 [==============================] - 1s 331ms/step - loss: 0.0062 - accuracy: 1.0000 - val_loss: 0.0015 - val_accuracy: 1.0000\n",
      "Epoch 81/100\n",
      "4/4 [==============================] - 1s 399ms/step - loss: 0.0032 - accuracy: 1.0000 - val_loss: 0.0029 - val_accuracy: 1.0000\n",
      "Epoch 82/100\n",
      "4/4 [==============================] - 1s 300ms/step - loss: 0.0024 - accuracy: 1.0000 - val_loss: 0.0025 - val_accuracy: 1.0000\n",
      "Epoch 83/100\n",
      "4/4 [==============================] - 1s 347ms/step - loss: 0.0030 - accuracy: 1.0000 - val_loss: 0.0021 - val_accuracy: 1.0000\n",
      "Epoch 84/100\n",
      "4/4 [==============================] - 1s 363ms/step - loss: 0.0041 - accuracy: 1.0000 - val_loss: 0.0015 - val_accuracy: 1.0000\n",
      "Epoch 85/100\n",
      "4/4 [==============================] - 1s 357ms/step - loss: 0.0032 - accuracy: 1.0000 - val_loss: 0.0014 - val_accuracy: 1.0000\n",
      "Epoch 86/100\n",
      "4/4 [==============================] - 1s 350ms/step - loss: 0.0044 - accuracy: 1.0000 - val_loss: 7.7412e-04 - val_accuracy: 1.0000\n",
      "Epoch 87/100\n",
      "4/4 [==============================] - 1s 363ms/step - loss: 0.0033 - accuracy: 1.0000 - val_loss: 0.0011 - val_accuracy: 1.0000\n",
      "Epoch 88/100\n",
      "4/4 [==============================] - 1s 392ms/step - loss: 0.0036 - accuracy: 1.0000 - val_loss: 0.0010 - val_accuracy: 1.0000\n",
      "Epoch 89/100\n",
      "4/4 [==============================] - 1s 463ms/step - loss: 0.0052 - accuracy: 1.0000 - val_loss: 9.5713e-04 - val_accuracy: 1.0000\n",
      "Epoch 90/100\n",
      "4/4 [==============================] - 1s 437ms/step - loss: 0.0021 - accuracy: 1.0000 - val_loss: 8.1377e-04 - val_accuracy: 1.0000\n",
      "Epoch 91/100\n",
      "4/4 [==============================] - 1s 436ms/step - loss: 0.0045 - accuracy: 1.0000 - val_loss: 8.7043e-04 - val_accuracy: 1.0000\n",
      "Epoch 92/100\n",
      "4/4 [==============================] - 1s 429ms/step - loss: 0.0052 - accuracy: 1.0000 - val_loss: 6.4801e-04 - val_accuracy: 1.0000\n",
      "Epoch 93/100\n",
      "4/4 [==============================] - 1s 372ms/step - loss: 0.0076 - accuracy: 1.0000 - val_loss: 0.0015 - val_accuracy: 1.0000\n",
      "Epoch 94/100\n",
      "4/4 [==============================] - 1s 287ms/step - loss: 0.0017 - accuracy: 1.0000 - val_loss: 0.0023 - val_accuracy: 1.0000\n",
      "Epoch 95/100\n",
      "4/4 [==============================] - 1s 385ms/step - loss: 0.0074 - accuracy: 1.0000 - val_loss: 0.0016 - val_accuracy: 1.0000\n",
      "Epoch 96/100\n",
      "4/4 [==============================] - 1s 293ms/step - loss: 0.0038 - accuracy: 1.0000 - val_loss: 0.0014 - val_accuracy: 1.0000\n",
      "Epoch 97/100\n",
      "4/4 [==============================] - 1s 410ms/step - loss: 0.0021 - accuracy: 1.0000 - val_loss: 0.0023 - val_accuracy: 1.0000\n",
      "Epoch 98/100\n",
      "4/4 [==============================] - 1s 337ms/step - loss: 0.0039 - accuracy: 1.0000 - val_loss: 0.0020 - val_accuracy: 1.0000\n",
      "Epoch 99/100\n",
      "4/4 [==============================] - 1s 394ms/step - loss: 0.0033 - accuracy: 1.0000 - val_loss: 8.3187e-04 - val_accuracy: 1.0000\n",
      "Epoch 100/100\n",
      "4/4 [==============================] - 1s 319ms/step - loss: 0.0038 - accuracy: 1.0000 - val_loss: 0.0017 - val_accuracy: 1.0000\n"
     ]
    },
    {
     "data": {
      "text/plain": [
       "<tensorflow.python.keras.callbacks.History at 0x1efcdc444c0>"
      ]
     },
     "execution_count": 14,
     "metadata": {},
     "output_type": "execute_result"
    }
   ],
   "source": [
    "model.fit_generator(x_train , steps_per_epoch = 4, epochs = 100, validation_data = x_test, validation_steps = 2)"
   ]
  },
  {
   "cell_type": "code",
   "execution_count": 15,
   "metadata": {},
   "outputs": [],
   "source": [
    "model.save('Lungcancer.h5')"
   ]
  },
  {
   "cell_type": "code",
   "execution_count": null,
   "metadata": {},
   "outputs": [],
   "source": []
  }
 ],
 "metadata": {
  "kernelspec": {
   "display_name": "Python 3 (ipykernel)",
   "language": "python",
   "name": "python3"
  },
  "language_info": {
   "codemirror_mode": {
    "name": "ipython",
    "version": 3
   },
   "file_extension": ".py",
   "mimetype": "text/x-python",
   "name": "python",
   "nbconvert_exporter": "python",
   "pygments_lexer": "ipython3",
   "version": "3.9.12"
  }
 },
 "nbformat": 4,
 "nbformat_minor": 2
}
